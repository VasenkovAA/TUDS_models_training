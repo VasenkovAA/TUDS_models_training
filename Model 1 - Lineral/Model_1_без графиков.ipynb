{
 "cells": [
  {
   "cell_type": "code",
   "execution_count": 19,
   "metadata": {},
   "outputs": [],
   "source": [
    "import torch\n",
    "import torch.nn as nn\n",
    "import torch.optim as optim\n",
    "import torchvision\n",
    "import torchvision.transforms as transforms\n",
    "\n",
    "\n"
   ]
  },
  {
   "cell_type": "code",
   "execution_count": 20,
   "metadata": {},
   "outputs": [],
   "source": [
    "# Установка гиперпараметров\n",
    "input_size = 784  # 28x28\n",
    "hidden_size = 500\n",
    "num_classes = 10\n",
    "num_epochs = 5\n",
    "batch_size = 100\n",
    "learning_rate = 0.001\n",
    "\n",
    "# Загрузка и нормализация данных MNIST\n",
    "train_dataset = torchvision.datasets.MNIST(root='./data', train=True, transform=transforms.ToTensor(), download=True)\n",
    "test_dataset = torchvision.datasets.MNIST(root='./data', train=False, transform=transforms.ToTensor())\n",
    "\n",
    "train_loader = torch.utils.data.DataLoader(dataset=train_dataset, batch_size=batch_size, shuffle=True)\n",
    "test_loader = torch.utils.data.DataLoader(dataset=test_dataset, batch_size=batch_size, shuffle=False)\n",
    "\n"
   ]
  },
  {
   "cell_type": "code",
   "execution_count": 21,
   "metadata": {},
   "outputs": [],
   "source": [
    "# Определение модели\n",
    "class NeuralNet(nn.Module):\n",
    "    def __init__(self, input_size, hidden_size, num_classes):\n",
    "        super(NeuralNet, self).__init__()\n",
    "        self.fc1 = nn.Linear(input_size, hidden_size)\n",
    "        self.relu = nn.ReLU()\n",
    "        self.fc2 = nn.Linear(hidden_size, num_classes)\n",
    "    \n",
    "    def forward(self, x):\n",
    "        out = self.fc1(x)\n",
    "        out = self.relu(out)\n",
    "        out = self.fc2(out)\n",
    "        return out\n",
    "\n"
   ]
  },
  {
   "cell_type": "code",
   "execution_count": 22,
   "metadata": {},
   "outputs": [],
   "source": [
    "model = NeuralNet(input_size, hidden_size, num_classes)\n",
    "\n",
    "# Определение функции потерь и оптимизатора\n",
    "criterion = nn.CrossEntropyLoss()\n",
    "optimizer = optim.Adam(model.parameters(), lr=learning_rate)\n",
    "\n"
   ]
  },
  {
   "cell_type": "code",
   "execution_count": 23,
   "metadata": {},
   "outputs": [
    {
     "name": "stdout",
     "output_type": "stream",
     "text": [
      "Epoch [1/5], Step [100/600], Loss: 0.4343\n",
      "Epoch [1/5], Step [200/600], Loss: 0.2711\n",
      "Epoch [1/5], Step [300/600], Loss: 0.3533\n",
      "Epoch [1/5], Step [400/600], Loss: 0.2257\n",
      "Epoch [1/5], Step [500/600], Loss: 0.1059\n",
      "Epoch [1/5], Step [600/600], Loss: 0.1318\n",
      "Epoch [2/5], Step [100/600], Loss: 0.1152\n",
      "Epoch [2/5], Step [200/600], Loss: 0.1192\n",
      "Epoch [2/5], Step [300/600], Loss: 0.0633\n",
      "Epoch [2/5], Step [400/600], Loss: 0.1266\n",
      "Epoch [2/5], Step [500/600], Loss: 0.0401\n",
      "Epoch [2/5], Step [600/600], Loss: 0.0711\n",
      "Epoch [3/5], Step [100/600], Loss: 0.1232\n",
      "Epoch [3/5], Step [200/600], Loss: 0.0340\n",
      "Epoch [3/5], Step [300/600], Loss: 0.0306\n",
      "Epoch [3/5], Step [400/600], Loss: 0.0402\n",
      "Epoch [3/5], Step [500/600], Loss: 0.0548\n",
      "Epoch [3/5], Step [600/600], Loss: 0.1106\n",
      "Epoch [4/5], Step [100/600], Loss: 0.0260\n",
      "Epoch [4/5], Step [200/600], Loss: 0.0711\n",
      "Epoch [4/5], Step [300/600], Loss: 0.0943\n",
      "Epoch [4/5], Step [400/600], Loss: 0.0903\n",
      "Epoch [4/5], Step [500/600], Loss: 0.0190\n",
      "Epoch [4/5], Step [600/600], Loss: 0.0274\n",
      "Epoch [5/5], Step [100/600], Loss: 0.0501\n",
      "Epoch [5/5], Step [200/600], Loss: 0.0449\n",
      "Epoch [5/5], Step [300/600], Loss: 0.0333\n",
      "Epoch [5/5], Step [400/600], Loss: 0.0190\n",
      "Epoch [5/5], Step [500/600], Loss: 0.0235\n",
      "Epoch [5/5], Step [600/600], Loss: 0.0644\n"
     ]
    }
   ],
   "source": [
    "# Обучение модели\n",
    "total_step = len(train_loader)\n",
    "for epoch in range(num_epochs):\n",
    "    for i, (images, labels) in enumerate(train_loader):\n",
    "        # Ресайз изображений\n",
    "        images = images.reshape(-1, 28*28)\n",
    "        \n",
    "        # Прямой проход\n",
    "        outputs = model(images)\n",
    "        loss = criterion(outputs, labels)\n",
    "        \n",
    "        # Обнуление градиентов, обратный проход и оптимизация\n",
    "        optimizer.zero_grad()\n",
    "        loss.backward()\n",
    "        optimizer.step()\n",
    "        \n",
    "        if (i+1) % 100 == 0:\n",
    "            print(f'Epoch [{epoch+1}/{num_epochs}], Step [{i+1}/{total_step}], Loss: {loss.item():.4f}')\n",
    "\n"
   ]
  },
  {
   "cell_type": "code",
   "execution_count": 24,
   "metadata": {},
   "outputs": [
    {
     "name": "stdout",
     "output_type": "stream",
     "text": [
      "Accuracy of the model on the 10000 test images: 97.9 %\n"
     ]
    }
   ],
   "source": [
    "# Тестирование модели\n",
    "model.eval()\n",
    "with torch.no_grad():\n",
    "    correct = 0\n",
    "    total = 0\n",
    "    for images, labels in test_loader:\n",
    "        images = images.reshape(-1, 28*28)\n",
    "        outputs = model(images)\n",
    "        _, predicted = torch.max(outputs.data, 1)\n",
    "        total += labels.size(0)\n",
    "        correct += (predicted == labels).sum().item()\n",
    "\n",
    "    print(f'Accuracy of the model on the 10000 test images: {100 * correct / total} %')\n",
    "\n",
    "# Сохранение модели\n",
    "torch.save(model.state_dict(), 'model.ckpt')"
   ]
  }
 ],
 "metadata": {
  "kernelspec": {
   "display_name": "Python 3",
   "language": "python",
   "name": "python3"
  },
  "language_info": {
   "codemirror_mode": {
    "name": "ipython",
    "version": 3
   },
   "file_extension": ".py",
   "mimetype": "text/x-python",
   "name": "python",
   "nbconvert_exporter": "python",
   "pygments_lexer": "ipython3",
   "version": "3.10.12"
  }
 },
 "nbformat": 4,
 "nbformat_minor": 2
}
